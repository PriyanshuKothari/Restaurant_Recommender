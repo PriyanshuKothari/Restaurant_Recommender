{
 "cells": [
  {
   "cell_type": "code",
   "execution_count": null,
   "metadata": {},
   "outputs": [],
   "source": [
    "import pandas as pd\n",
    "df_ratings = pd.read_csv(\"restaurant_data/rating_final.csv\")\n",
    "df_restaurants = pd.read_csv(\"restaurant_data/geoplaces2.csv\", encoding=\"ISO-8859-1\")  # Restaurant details\n",
    "df_user_cuisine = pd.read_csv(\"restaurant_data/usercuisine.csv\")  # User preferences\n",
    "df_restaurant_cuisine = pd.read_csv(\"restaurant_data/chefmozcuisine.csv\")  # Restaurant cuisine types"
   ]
  },
  {
   "cell_type": "code",
   "execution_count": 3,
   "metadata": {},
   "outputs": [],
   "source": [
    "# Merge ratings with restaurant details (name, location, etc.)\n",
    "df_merged = df_ratings.merge(df_restaurants[['placeID', 'name', 'city', 'state', 'price']], on='placeID', how='left')"
   ]
  },
  {
   "cell_type": "code",
   "execution_count": 4,
   "metadata": {},
   "outputs": [],
   "source": [
    "# Merge with restaurant cuisine details\n",
    "df_merged = df_merged.merge(df_restaurant_cuisine, on='placeID', how='left')"
   ]
  },
  {
   "cell_type": "code",
   "execution_count": 5,
   "metadata": {},
   "outputs": [],
   "source": [
    "# Merge with user cuisine preferences\n",
    "df_merged = df_merged.merge(df_user_cuisine, on='userID', how='left')"
   ]
  },
  {
   "cell_type": "code",
   "execution_count": null,
   "metadata": {},
   "outputs": [
    {
     "name": "stdout",
     "output_type": "stream",
     "text": [
      "  userID  placeID  rating  food_rating  service_rating  \\\n",
      "0  U1077   135085       2            2               2   \n",
      "1  U1077   135038       2            2               1   \n",
      "2  U1077   132825       2            2               2   \n",
      "3  U1077   135060       1            2               2   \n",
      "4  U1068   135104       1            1               2   \n",
      "\n",
      "                      name             city   state   price Rcuisine_x  \\\n",
      "0   Tortas Locas Hipocampo  San Luis Potosi     SLP  medium  Fast_Food   \n",
      "1    Restaurant la Chalita  San Luis Potosi     SLP  medium        NaN   \n",
      "2          puesto de tacos           s.l.p.  s.l.p.     low    Mexican   \n",
      "3  Restaurante Marisco Sam  San Luis Potosi     SLP  medium    Seafood   \n",
      "4                     vips                ?       ?  medium    Mexican   \n",
      "\n",
      "  Rcuisine_y  \n",
      "0    Mexican  \n",
      "1    Mexican  \n",
      "2    Mexican  \n",
      "3    Mexican  \n",
      "4    Mexican  \n"
     ]
    }
   ],
   "source": [
    "print(df_merged.head())"
   ]
  },
  {
   "cell_type": "code",
   "execution_count": 8,
   "metadata": {},
   "outputs": [
    {
     "name": "stdout",
     "output_type": "stream",
     "text": [
      "Looking in indexes: https://pypi.tuna.tsinghua.edu.cn/simple\n",
      "Collecting scikit-surprise\n",
      "  Downloading https://pypi.tuna.tsinghua.edu.cn/packages/d9/8d/40ac32e703f3808159f9e2b33760cfbd6224cc7783eb663091eddc9581c2/scikit_surprise-1.1.4.tar.gz (154 kB)\n",
      "  Installing build dependencies: started\n",
      "  Installing build dependencies: still running...\n",
      "  Installing build dependencies: still running...\n",
      "  Installing build dependencies: finished with status 'done'\n",
      "  Getting requirements to build wheel: started\n",
      "  Getting requirements to build wheel: finished with status 'done'\n",
      "  Preparing metadata (pyproject.toml): started\n",
      "  Preparing metadata (pyproject.toml): finished with status 'done'\n",
      "Requirement already satisfied: joblib>=1.2.0 in c:\\users\\priyanshu\\appdata\\local\\programs\\python\\python312\\lib\\site-packages (from scikit-surprise) (1.3.2)\n",
      "Requirement already satisfied: numpy>=1.19.5 in c:\\users\\priyanshu\\appdata\\local\\programs\\python\\python312\\lib\\site-packages (from scikit-surprise) (1.26.4)\n",
      "Requirement already satisfied: scipy>=1.6.0 in c:\\users\\priyanshu\\appdata\\local\\programs\\python\\python312\\lib\\site-packages (from scikit-surprise) (1.12.0)\n",
      "Building wheels for collected packages: scikit-surprise\n",
      "  Building wheel for scikit-surprise (pyproject.toml): started\n",
      "  Building wheel for scikit-surprise (pyproject.toml): finished with status 'done'\n",
      "  Created wheel for scikit-surprise: filename=scikit_surprise-1.1.4-cp312-cp312-win_amd64.whl size=1291297 sha256=6126c62a60abfa1651492895bc579af636534f86e66180bf1eca4806b2111b0e\n",
      "  Stored in directory: c:\\users\\priyanshu\\appdata\\local\\pip\\cache\\wheels\\81\\02\\3a\\774bc08ae235371869b4b1bc39260bec476c4592f79ae59017\n",
      "Successfully built scikit-surprise\n",
      "Installing collected packages: scikit-surprise\n",
      "Successfully installed scikit-surprise-1.1.4\n"
     ]
    },
    {
     "name": "stderr",
     "output_type": "stream",
     "text": [
      "DEPRECATION: Loading egg at c:\\users\\priyanshu\\appdata\\local\\programs\\python\\python312\\lib\\site-packages\\dlib-19.24.99-py3.12-win-amd64.egg is deprecated. pip 25.1 will enforce this behaviour change. A possible replacement is to use pip for package installation. Discussion can be found at https://github.com/pypa/pip/issues/12330\n",
      "\n",
      "[notice] A new release of pip is available: 24.3.1 -> 25.0.1\n",
      "[notice] To update, run: python.exe -m pip install --upgrade pip\n"
     ]
    }
   ],
   "source": [
    "! pip install scikit-surprise\n"
   ]
  },
  {
   "cell_type": "code",
   "execution_count": 11,
   "metadata": {},
   "outputs": [],
   "source": [
    "from surprise import Dataset, Reader, SVD\n",
    "from surprise.model_selection import train_test_split"
   ]
  },
  {
   "cell_type": "code",
   "execution_count": null,
   "metadata": {},
   "outputs": [],
   "source": [
    "reader = Reader(rating_scale=(0, 2))"
   ]
  },
  {
   "cell_type": "code",
   "execution_count": 13,
   "metadata": {},
   "outputs": [],
   "source": [
    "# Load merged data into Surprise format\n",
    "data = Dataset.load_from_df(df_merged[['userID', 'placeID', 'rating']], reader)"
   ]
  },
  {
   "cell_type": "code",
   "execution_count": 14,
   "metadata": {},
   "outputs": [],
   "source": [
    "train, test = train_test_split(data, test_size= 0.2)"
   ]
  },
  {
   "cell_type": "code",
   "execution_count": 15,
   "metadata": {},
   "outputs": [
    {
     "data": {
      "text/plain": [
       "<surprise.prediction_algorithms.matrix_factorization.SVD at 0x2063efe6b40>"
      ]
     },
     "execution_count": 15,
     "metadata": {},
     "output_type": "execute_result"
    }
   ],
   "source": [
    "# Train SVD model\n",
    "model = SVD()\n",
    "model.fit(train)"
   ]
  },
  {
   "cell_type": "code",
   "execution_count": 16,
   "metadata": {},
   "outputs": [
    {
     "name": "stdout",
     "output_type": "stream",
     "text": [
      "RMSE: 0.3415\n",
      "Model RMSE: 0.34149215469232747\n"
     ]
    }
   ],
   "source": [
    "# Test model accuracy\n",
    "from surprise.accuracy import rmse\n",
    "predictions = model.test(test)\n",
    "print(\"Model RMSE:\", rmse(predictions))"
   ]
  },
  {
   "cell_type": "code",
   "execution_count": 19,
   "metadata": {},
   "outputs": [],
   "source": [
    "def get_collaborative_recommendations(user_id, num_recommendations=5):\n",
    "    # Get all unique restaurant IDs\n",
    "    all_restaurants = df_merged['placeID'].unique()\n",
    "    \n",
    "    # Predict ratings for all restaurants\n",
    "    predictions = [model.predict(user_id, restaurant) for restaurant in all_restaurants]\n",
    "    \n",
    "    # Sort predictions by estimated rating (descending order)\n",
    "    predictions.sort(key=lambda x: x.est, reverse=True)\n",
    "    \n",
    "    # Get top recommended restaurant IDs\n",
    "    top_recommendations = [pred.iid for pred in predictions[:num_recommendations]]\n",
    "    \n",
    "    # Get restaurant details for recommendations\n",
    "    return df_merged[df_merged['placeID'].isin(top_recommendations)][['name', 'Rcuisine_y', 'city']].drop_duplicates()\n"
   ]
  },
  {
   "cell_type": "code",
   "execution_count": null,
   "metadata": {},
   "outputs": [
    {
     "data": {
      "text/html": [
       "<div>\n",
       "<style scoped>\n",
       "    .dataframe tbody tr th:only-of-type {\n",
       "        vertical-align: middle;\n",
       "    }\n",
       "\n",
       "    .dataframe tbody tr th {\n",
       "        vertical-align: top;\n",
       "    }\n",
       "\n",
       "    .dataframe thead th {\n",
       "        text-align: right;\n",
       "    }\n",
       "</style>\n",
       "<table border=\"1\" class=\"dataframe\">\n",
       "  <thead>\n",
       "    <tr style=\"text-align: right;\">\n",
       "      <th></th>\n",
       "      <th>name</th>\n",
       "      <th>Rcuisine_y</th>\n",
       "      <th>city</th>\n",
       "    </tr>\n",
       "  </thead>\n",
       "  <tbody>\n",
       "    <tr>\n",
       "      <th>0</th>\n",
       "      <td>Tortas Locas Hipocampo</td>\n",
       "      <td>Mexican</td>\n",
       "      <td>San Luis Potosi</td>\n",
       "    </tr>\n",
       "    <tr>\n",
       "      <th>122</th>\n",
       "      <td>Mariscos El Pescador</td>\n",
       "      <td>Cafe-Coffee_Shop</td>\n",
       "      <td>San Luis Potosi</td>\n",
       "    </tr>\n",
       "    <tr>\n",
       "      <th>123</th>\n",
       "      <td>Mariscos El Pescador</td>\n",
       "      <td>Sushi</td>\n",
       "      <td>San Luis Potosi</td>\n",
       "    </tr>\n",
       "    <tr>\n",
       "      <th>124</th>\n",
       "      <td>Mariscos El Pescador</td>\n",
       "      <td>Latin_American</td>\n",
       "      <td>San Luis Potosi</td>\n",
       "    </tr>\n",
       "    <tr>\n",
       "      <th>125</th>\n",
       "      <td>Mariscos El Pescador</td>\n",
       "      <td>Deli-Sandwiches</td>\n",
       "      <td>San Luis Potosi</td>\n",
       "    </tr>\n",
       "    <tr>\n",
       "      <th>...</th>\n",
       "      <td>...</td>\n",
       "      <td>...</td>\n",
       "      <td>...</td>\n",
       "    </tr>\n",
       "    <tr>\n",
       "      <th>1831</th>\n",
       "      <td>Tortas Locas Hipocampo</td>\n",
       "      <td>Brazilian</td>\n",
       "      <td>San Luis Potosi</td>\n",
       "    </tr>\n",
       "    <tr>\n",
       "      <th>1832</th>\n",
       "      <td>Tortas Locas Hipocampo</td>\n",
       "      <td>Southern</td>\n",
       "      <td>San Luis Potosi</td>\n",
       "    </tr>\n",
       "    <tr>\n",
       "      <th>3516</th>\n",
       "      <td>El Rincon de San Francisco</td>\n",
       "      <td>Game</td>\n",
       "      <td>San Luis Potosi</td>\n",
       "    </tr>\n",
       "    <tr>\n",
       "      <th>3556</th>\n",
       "      <td>la Cantina</td>\n",
       "      <td>Bar</td>\n",
       "      <td>San Luis Potosi</td>\n",
       "    </tr>\n",
       "    <tr>\n",
       "      <th>3814</th>\n",
       "      <td>El Rincon de San Francisco</td>\n",
       "      <td>Tex-Mex</td>\n",
       "      <td>San Luis Potosi</td>\n",
       "    </tr>\n",
       "  </tbody>\n",
       "</table>\n",
       "<p>134 rows × 3 columns</p>\n",
       "</div>"
      ],
      "text/plain": [
       "                            name        Rcuisine_y             city\n",
       "0         Tortas Locas Hipocampo           Mexican  San Luis Potosi\n",
       "122         Mariscos El Pescador  Cafe-Coffee_Shop  San Luis Potosi\n",
       "123         Mariscos El Pescador             Sushi  San Luis Potosi\n",
       "124         Mariscos El Pescador    Latin_American  San Luis Potosi\n",
       "125         Mariscos El Pescador   Deli-Sandwiches  San Luis Potosi\n",
       "...                          ...               ...              ...\n",
       "1831      Tortas Locas Hipocampo         Brazilian  San Luis Potosi\n",
       "1832      Tortas Locas Hipocampo          Southern  San Luis Potosi\n",
       "3516  El Rincon de San Francisco              Game  San Luis Potosi\n",
       "3556                  la Cantina               Bar  San Luis Potosi\n",
       "3814  El Rincon de San Francisco           Tex-Mex  San Luis Potosi\n",
       "\n",
       "[134 rows x 3 columns]"
      ]
     },
     "execution_count": 20,
     "metadata": {},
     "output_type": "execute_result"
    }
   ],
   "source": [
    "get_collaborative_recommendations(\"U1077\")  \n"
   ]
  },
  {
   "cell_type": "code",
   "execution_count": 23,
   "metadata": {},
   "outputs": [],
   "source": [
    "from sklearn.feature_extraction.text import TfidfVectorizer\n",
    "from sklearn.metrics.pairwise import cosine_similarity"
   ]
  },
  {
   "cell_type": "code",
   "execution_count": 24,
   "metadata": {},
   "outputs": [
    {
     "name": "stderr",
     "output_type": "stream",
     "text": [
      "C:\\Users\\Priyanshu\\AppData\\Local\\Temp\\ipykernel_14744\\488708397.py:2: FutureWarning: A value is trying to be set on a copy of a DataFrame or Series through chained assignment using an inplace method.\n",
      "The behavior will change in pandas 3.0. This inplace method will never work because the intermediate object on which we are setting values always behaves as a copy.\n",
      "\n",
      "For example, when doing 'df[col].method(value, inplace=True)', try using 'df.method({col: value}, inplace=True)' or df[col] = df[col].method(value) instead, to perform the operation inplace on the original object.\n",
      "\n",
      "\n",
      "  df_merged['Rcuisine_y'].fillna('', inplace=True)\n"
     ]
    }
   ],
   "source": [
    "# Fill missing cuisine values with an empty string\n",
    "df_merged['Rcuisine_y'].fillna('', inplace=True)\n",
    "\n",
    "# Convert cuisine type into a single string for each restaurant\n",
    "df_merged['cuisine_combined'] = df_merged['Rcuisine_y']\n",
    "\n",
    "# Apply TF-IDF Vectorization on cuisine types\n",
    "vectorizer = TfidfVectorizer()\n",
    "cuisine_matrix = vectorizer.fit_transform(df_merged['cuisine_combined'])\n",
    "\n",
    "# Compute Cosine Similarity between restaurants based on cuisine type\n",
    "cosine_sim = cosine_similarity(cuisine_matrix, cuisine_matrix)"
   ]
  },
  {
   "cell_type": "code",
   "execution_count": 25,
   "metadata": {},
   "outputs": [],
   "source": [
    "def recommend_similar_restaurants_location_based(restaurant_name, user_city, num_recommendations=5):\n",
    "    # Find the restaurant index\n",
    "    idx = df_merged[(df_merged['name'] == restaurant_name) & (df_merged['city'] == user_city)].index\n",
    "    \n",
    "    if len(idx) == 0:\n",
    "        return \"Restaurant not found in database for this city.\"\n",
    "    \n",
    "    idx = idx[0]\n",
    "    \n",
    "    # Get similarity scores for the restaurant\n",
    "    sim_scores = list(enumerate(cosine_sim[idx]))\n",
    "    \n",
    "    # Sort restaurants by similarity score (descending)\n",
    "    sim_scores = sorted(sim_scores, key=lambda x: x[1], reverse=True)\n",
    "    \n",
    "    # Get indices of top similar restaurants\n",
    "    similar_indices = [i[0] for i in sim_scores[1:num_recommendations*2]]  # Get more recommendations first\n",
    "    \n",
    "    # Filter recommendations by the same city\n",
    "    recommended_restaurants = df_merged.iloc[similar_indices][['name', 'Rcuisine_y', 'city']].drop_duplicates()\n",
    "    recommended_restaurants = recommended_restaurants[recommended_restaurants['city'] == user_city].head(num_recommendations)\n",
    "    \n",
    "    return recommended_restaurants"
   ]
  },
  {
   "cell_type": "code",
   "execution_count": 26,
   "metadata": {},
   "outputs": [],
   "source": [
    "def hybrid_recommendations(user_id, restaurant_name, user_city, num_recommendations=5):\n",
    "    # Get collaborative filtering recommendations\n",
    "    collab_recs = get_collaborative_recommendations(user_id, num_recommendations)\n",
    "    \n",
    "    # Get content-based recommendations\n",
    "    content_recs = recommend_similar_restaurants_location_based(restaurant_name, user_city, num_recommendations)\n",
    "    \n",
    "    # Merge results (removing duplicates)\n",
    "    hybrid_results = pd.concat([collab_recs, content_recs]).drop_duplicates().head(num_recommendations)\n",
    "    \n",
    "    return hybrid_results\n"
   ]
  },
  {
   "cell_type": "code",
   "execution_count": 27,
   "metadata": {},
   "outputs": [
    {
     "data": {
      "text/html": [
       "<div>\n",
       "<style scoped>\n",
       "    .dataframe tbody tr th:only-of-type {\n",
       "        vertical-align: middle;\n",
       "    }\n",
       "\n",
       "    .dataframe tbody tr th {\n",
       "        vertical-align: top;\n",
       "    }\n",
       "\n",
       "    .dataframe thead th {\n",
       "        text-align: right;\n",
       "    }\n",
       "</style>\n",
       "<table border=\"1\" class=\"dataframe\">\n",
       "  <thead>\n",
       "    <tr style=\"text-align: right;\">\n",
       "      <th></th>\n",
       "      <th>name</th>\n",
       "      <th>Rcuisine_y</th>\n",
       "      <th>city</th>\n",
       "    </tr>\n",
       "  </thead>\n",
       "  <tbody>\n",
       "    <tr>\n",
       "      <th>0</th>\n",
       "      <td>Tortas Locas Hipocampo</td>\n",
       "      <td>Mexican</td>\n",
       "      <td>San Luis Potosi</td>\n",
       "    </tr>\n",
       "    <tr>\n",
       "      <th>122</th>\n",
       "      <td>Mariscos El Pescador</td>\n",
       "      <td>Cafe-Coffee_Shop</td>\n",
       "      <td>San Luis Potosi</td>\n",
       "    </tr>\n",
       "    <tr>\n",
       "      <th>123</th>\n",
       "      <td>Mariscos El Pescador</td>\n",
       "      <td>Sushi</td>\n",
       "      <td>San Luis Potosi</td>\n",
       "    </tr>\n",
       "    <tr>\n",
       "      <th>124</th>\n",
       "      <td>Mariscos El Pescador</td>\n",
       "      <td>Latin_American</td>\n",
       "      <td>San Luis Potosi</td>\n",
       "    </tr>\n",
       "    <tr>\n",
       "      <th>125</th>\n",
       "      <td>Mariscos El Pescador</td>\n",
       "      <td>Deli-Sandwiches</td>\n",
       "      <td>San Luis Potosi</td>\n",
       "    </tr>\n",
       "  </tbody>\n",
       "</table>\n",
       "</div>"
      ],
      "text/plain": [
       "                       name        Rcuisine_y             city\n",
       "0    Tortas Locas Hipocampo           Mexican  San Luis Potosi\n",
       "122    Mariscos El Pescador  Cafe-Coffee_Shop  San Luis Potosi\n",
       "123    Mariscos El Pescador             Sushi  San Luis Potosi\n",
       "124    Mariscos El Pescador    Latin_American  San Luis Potosi\n",
       "125    Mariscos El Pescador   Deli-Sandwiches  San Luis Potosi"
      ]
     },
     "execution_count": 27,
     "metadata": {},
     "output_type": "execute_result"
    }
   ],
   "source": [
    "hybrid_recommendations(\"U1077\", \"Tortas Locas Hipocampo\", \"San Luis Potosi\")\n"
   ]
  },
  {
   "cell_type": "code",
   "execution_count": null,
   "metadata": {},
   "outputs": [],
   "source": []
  }
 ],
 "metadata": {
  "kernelspec": {
   "display_name": "Python 3",
   "language": "python",
   "name": "python3"
  },
  "language_info": {
   "codemirror_mode": {
    "name": "ipython",
    "version": 3
   },
   "file_extension": ".py",
   "mimetype": "text/x-python",
   "name": "python",
   "nbconvert_exporter": "python",
   "pygments_lexer": "ipython3",
   "version": "3.12.2"
  }
 },
 "nbformat": 4,
 "nbformat_minor": 2
}
